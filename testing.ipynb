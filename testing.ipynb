{
 "cells": [
  {
   "cell_type": "code",
   "execution_count": 1,
   "id": "7a181c5a",
   "metadata": {},
   "outputs": [],
   "source": [
    "from PyPDF2 import PdfReader\n",
    "\n",
    "reader = PdfReader(\"BostonMarathonHistoricalResults.pdf\")\n",
    "number_of_pages = len(reader.pages)\n",
    "page = reader.pages[0]\n"
   ]
  },
  {
   "cell_type": "code",
   "execution_count": 12,
   "id": "354cdb99",
   "metadata": {},
   "outputs": [
    {
     "name": "stdout",
     "output_type": "stream",
     "text": [
      "4271\n"
     ]
    },
    {
     "data": {
      "text/plain": [
       "\"YEARGENDERTIMEFIRST NAMELAST NAMERESIDENCE1897M2:55:10John JMcDermottNew York1897M3:02:02James JKiernanNew York1897M3:06:02Edward PRhellMassachusetts1897M3:11:37HamiltonGrayNew York1897M3:17:50H DEgglestonNew York1897M3:31:00JohnMasonNew York1897M3:41:25WRyanMassachusetts1897M4:06:12LawrenceBrignoliaMassachusetts1897M4:08:00HarryFranklinMassachusetts1897M4:10:00A THoweMassachusetts1898M2:42:00Ronald JMacDonaldCanada1898M2:45:00HamiltonGrayNew York1898M2:48:02Robert AMcLennonMassachusetts1898M2:54:17John JMcDermottNew York1898M2:55:49LawrenceBrignoliaMassachusetts1898M2:58:49EugeneEstoppey JrNew York1898M3:08:55D JGrantNew York1898M3:09:30DHarriganMassachusetts1898M3:09:30JohnMasonNew York1898M3:16:20J EEnwrightNew York1898M3:22:45G WJansonNew York1898M3:25:30H DEggelestonNew York1898M3:25:30TO'ConnorNew York1898M3:30:20J HKeelyNew York1898M3:38:07JohnLayerNew York1899M2:54:38LawrenceBrignoliaMassachusetts1899M2:57:46RichardGrantMassachusetts1899M3:02:01B FSullivanMassachusetts1899M3:02:29John BMaguireMassachusetts1899M3:04:59R FHallenNew York1899M3:18:34EugeneEstoppey JrNew York1899M3:21:30D JSullivanMassachusetts1899M3:23:55J OLynchNew York1899M3:30:12J HKelleyNew York1899M3:39:15J EEnwrightNew York1899M3:44:45D PHarriganNew York1900M2:39:44John PCaffreyCanada1900M2:41:31WilliamSheeringCanada1900M2:49:08FredHughsonCanada1900M2:51:36John BMaguireMassachusettsPublishing or re-posting of Boston Marathon results, without the expressed written consent of the Boston Athletic Association, is strictly prohibited.\\n\""
      ]
     },
     "execution_count": 12,
     "metadata": {},
     "output_type": "execute_result"
    }
   ],
   "source": [
    "print(number_of_pages)\n",
    "page.extract_text()\n",
    "page.extract_text(space_width=10)"
   ]
  }
 ],
 "metadata": {
  "kernelspec": {
   "display_name": "Python 3 (ipykernel)",
   "language": "python",
   "name": "python3"
  },
  "language_info": {
   "codemirror_mode": {
    "name": "ipython",
    "version": 3
   },
   "file_extension": ".py",
   "mimetype": "text/x-python",
   "name": "python",
   "nbconvert_exporter": "python",
   "pygments_lexer": "ipython3",
   "version": "3.9.13"
  }
 },
 "nbformat": 4,
 "nbformat_minor": 5
}
